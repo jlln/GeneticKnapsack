{
 "cells": [
  {
   "cell_type": "code",
   "execution_count": 1,
   "metadata": {
    "collapsed": true
   },
   "outputs": [],
   "source": [
    "from src.Evolution import breed_population,evolve_population\n",
    "from src.KnapsackItem import Item\n",
    "from src.KnapsackIndividual import Individual\n",
    "import numpy as np\n",
    "import matplotlib.pyplot as plt\n",
    "%matplotlib inline\n"
   ]
  },
  {
   "cell_type": "code",
   "execution_count": 14,
   "metadata": {
    "collapsed": true
   },
   "outputs": [],
   "source": [
    "items = list(set([(np.random.randint(1,10),np.random.randint(1,10)) for x in range(30)])) # item = (weight,value)\n",
    "def total_value(items, max_weight):\n",
    "    return  sum([x[1] for x in items]) if sum([x[0] for x in items]) <= max_weight else 0\n",
    "cache = {}\n",
    "def solve(items, max_weight):\n",
    "    if not items:\n",
    "        return ()\n",
    "    if (items,max_weight) not in cache:\n",
    "        head = items[0]\n",
    "        tail = items[1:]\n",
    "        include = (head,) + solve(tail, max_weight - head[0])\n",
    "        dont_include = solve(tail, max_weight)\n",
    "        if total_value(include, max_weight) > total_value(dont_include, max_weight):\n",
    "            answer = include\n",
    "        else:\n",
    "            answer = dont_include\n",
    "        cache[(items,max_weight)] = answer\n",
    "    return cache[(items,max_weight)]"
   ]
  },
  {
   "cell_type": "code",
   "execution_count": 15,
   "metadata": {
    "collapsed": true
   },
   "outputs": [],
   "source": [
    "max_weight = 100\n",
    "solution = solve(tuple(items), max_weight)"
   ]
  },
  {
   "cell_type": "code",
   "execution_count": 16,
   "metadata": {},
   "outputs": [
    {
     "data": {
      "text/plain": [
       "100"
      ]
     },
     "execution_count": 16,
     "metadata": {},
     "output_type": "execute_result"
    }
   ],
   "source": [
    "np.sum([x[0] for x in list(solution)])"
   ]
  },
  {
   "cell_type": "code",
   "execution_count": 17,
   "metadata": {},
   "outputs": [
    {
     "data": {
      "text/plain": [
       "124"
      ]
     },
     "execution_count": 17,
     "metadata": {},
     "output_type": "execute_result"
    }
   ],
   "source": [
    "np.sum([x[1] for x in list(solution)])"
   ]
  },
  {
   "cell_type": "code",
   "execution_count": 18,
   "metadata": {
    "collapsed": true
   },
   "outputs": [],
   "source": [
    "items_ = [Item(x[0], x[1]) for x in items]\n",
    "individuals = [Individual(items_, max_weight=100) for x in range(20)]"
   ]
  },
  {
   "cell_type": "code",
   "execution_count": 19,
   "metadata": {
    "scrolled": false
   },
   "outputs": [
    {
     "name": "stdout",
     "output_type": "stream",
     "text": [
      "Generation 0\n",
      "65.0% Population Legal\n",
      "Mean Fitness: 59771.03486801075\n",
      "Best Value: 105\n",
      "Most Fit:\n",
      "   value: 105 weight: 98 fitness: 106209.04975252658\n",
      "Generation 1\n",
      "100.0% Population Legal\n",
      "Mean Fitness: 100350.33693971745\n",
      "Best Value: 109\n",
      "Most Fit:\n",
      "   value: 109 weight: 100 fitness: 117729.90909090909\n",
      "Generation 2\n",
      "100.0% Population Legal\n",
      "Mean Fitness: 104999.89646486957\n",
      "Best Value: 114\n",
      "Most Fit:\n",
      "   value: 114 weight: 99 fitness: 135302.37423680513\n",
      "Generation 3\n",
      "100.0% Population Legal\n",
      "Mean Fitness: 112513.7375742466\n",
      "Best Value: 115\n",
      "Most Fit:\n",
      "   value: 115 weight: 94 fitness: 142199.5183472701\n",
      "Generation 4\n",
      "100.0% Population Legal\n",
      "Mean Fitness: 118767.94253304873\n",
      "Best Value: 115\n",
      "Most Fit:\n",
      "   value: 115 weight: 94 fitness: 142199.5183472701\n",
      "Generation 5\n",
      "100.0% Population Legal\n",
      "Mean Fitness: 119591.77636531336\n",
      "Best Value: 115\n",
      "Most Fit:\n",
      "   value: 115 weight: 94 fitness: 142199.5183472701\n",
      "Generation 6\n",
      "100.0% Population Legal\n",
      "Mean Fitness: 130929.05048400466\n",
      "Best Value: 121\n",
      "Most Fit:\n",
      "   value: 121 weight: 96 fitness: 164064.43150377728\n",
      "Generation 7\n",
      "100.0% Population Legal\n",
      "Mean Fitness: 139221.8835883307\n",
      "Best Value: 123\n",
      "Most Fit:\n",
      "   value: 123 weight: 100 fitness: 169169.72727272726\n",
      "Generation 8\n",
      "100.0% Population Legal\n",
      "Mean Fitness: 140384.5746310695\n",
      "Best Value: 123\n",
      "Most Fit:\n",
      "   value: 123 weight: 100 fitness: 169169.72727272726\n",
      "Generation 9\n",
      "100.0% Population Legal\n",
      "Mean Fitness: 143742.6646109787\n",
      "Best Value: 123\n",
      "Most Fit:\n",
      "   value: 123 weight: 100 fitness: 169169.72727272726\n",
      "Generation 10\n",
      "100.0% Population Legal\n",
      "Mean Fitness: 146326.76235840065\n",
      "Best Value: 123\n",
      "Most Fit:\n",
      "   value: 123 weight: 100 fitness: 169169.72727272726\n",
      "Generation 11\n",
      "100.0% Population Legal\n",
      "Mean Fitness: 148641.91460922564\n",
      "Best Value: 123\n",
      "Most Fit:\n",
      "   value: 123 weight: 100 fitness: 169169.72727272726\n",
      "Generation 12\n",
      "100.0% Population Legal\n",
      "Mean Fitness: 151303.60811833182\n",
      "Best Value: 123\n",
      "Most Fit:\n",
      "   value: 123 weight: 100 fitness: 169169.72727272726\n",
      "Generation 13\n",
      "100.0% Population Legal\n",
      "Mean Fitness: 153504.88983249638\n",
      "Best Value: 123\n",
      "Most Fit:\n",
      "   value: 123 weight: 100 fitness: 169169.72727272726\n",
      "Generation 14\n",
      "100.0% Population Legal\n",
      "Mean Fitness: 155471.86774796725\n",
      "Best Value: 123\n",
      "Most Fit:\n",
      "   value: 123 weight: 100 fitness: 169169.72727272726\n"
     ]
    }
   ],
   "source": [
    "g,mev,w,v,f,mf,pop,bog,matings,pop_record = evolve_population(individuals,0.25,4,15,0.2)"
   ]
  },
  {
   "cell_type": "code",
   "execution_count": 8,
   "metadata": {
    "collapsed": true
   },
   "outputs": [],
   "source": [
    "import matplotlib.pyplot as plt\n",
    "import matplotlib.patches as patches\n",
    "%matplotlib inline"
   ]
  },
  {
   "cell_type": "code",
   "execution_count": 21,
   "metadata": {},
   "outputs": [
    {
     "ename": "AttributeError",
     "evalue": "'list' object has no attribute 'items'",
     "output_type": "error",
     "traceback": [
      "\u001b[1;31m---------------------------------------------------------------------------\u001b[0m",
      "\u001b[1;31mAttributeError\u001b[0m                            Traceback (most recent call last)",
      "\u001b[1;32m<ipython-input-21-c72d04b17f7d>\u001b[0m in \u001b[0;36m<module>\u001b[1;34m()\u001b[0m\n\u001b[0;32m      1\u001b[0m \u001b[0mf\u001b[0m \u001b[1;33m=\u001b[0m \u001b[0mplt\u001b[0m\u001b[1;33m.\u001b[0m\u001b[0mfigure\u001b[0m\u001b[1;33m(\u001b[0m\u001b[0mfigsize\u001b[0m\u001b[1;33m=\u001b[0m\u001b[1;33m(\u001b[0m\u001b[1;36m10\u001b[0m\u001b[1;33m,\u001b[0m\u001b[1;36m5\u001b[0m\u001b[1;33m)\u001b[0m\u001b[1;33m)\u001b[0m\u001b[1;33m\u001b[0m\u001b[0m\n\u001b[0;32m      2\u001b[0m \u001b[0max\u001b[0m \u001b[1;33m=\u001b[0m \u001b[0mf\u001b[0m\u001b[1;33m.\u001b[0m\u001b[0madd_subplot\u001b[0m\u001b[1;33m(\u001b[0m\u001b[1;36m111\u001b[0m\u001b[1;33m)\u001b[0m\u001b[1;33m\u001b[0m\u001b[0m\n\u001b[1;32m----> 3\u001b[1;33m \u001b[0mdraw_knapsack\u001b[0m\u001b[1;33m(\u001b[0m\u001b[0mitems\u001b[0m\u001b[1;33m,\u001b[0m\u001b[0max\u001b[0m\u001b[1;33m)\u001b[0m\u001b[1;33m\u001b[0m\u001b[0m\n\u001b[0m",
      "\u001b[1;32m<ipython-input-10-e597fd482524>\u001b[0m in \u001b[0;36mdraw_knapsack\u001b[1;34m(t, ax)\u001b[0m\n\u001b[0;32m      5\u001b[0m \u001b[1;32mdef\u001b[0m \u001b[0mdraw_knapsack\u001b[0m\u001b[1;33m(\u001b[0m\u001b[0mt\u001b[0m\u001b[1;33m,\u001b[0m\u001b[0max\u001b[0m\u001b[1;33m)\u001b[0m\u001b[1;33m:\u001b[0m\u001b[1;33m\u001b[0m\u001b[0m\n\u001b[0;32m      6\u001b[0m     \u001b[0mxs\u001b[0m \u001b[1;33m=\u001b[0m \u001b[1;36m0\u001b[0m\u001b[1;33m\u001b[0m\u001b[0m\n\u001b[1;32m----> 7\u001b[1;33m     \u001b[1;32mfor\u001b[0m \u001b[0ms\u001b[0m \u001b[1;32min\u001b[0m \u001b[0mt\u001b[0m\u001b[1;33m.\u001b[0m\u001b[0mitems\u001b[0m\u001b[1;33m:\u001b[0m\u001b[1;33m\u001b[0m\u001b[0m\n\u001b[0m\u001b[0;32m      8\u001b[0m         \u001b[0max\u001b[0m\u001b[1;33m.\u001b[0m\u001b[0madd_patch\u001b[0m\u001b[1;33m(\u001b[0m\u001b[0mpatches\u001b[0m\u001b[1;33m.\u001b[0m\u001b[0mRectangle\u001b[0m\u001b[1;33m(\u001b[0m\u001b[1;33m(\u001b[0m\u001b[0mxs\u001b[0m\u001b[1;33m,\u001b[0m\u001b[1;36m0\u001b[0m\u001b[1;33m)\u001b[0m\u001b[1;33m,\u001b[0m\u001b[0ms\u001b[0m\u001b[1;33m.\u001b[0m\u001b[0mweight\u001b[0m\u001b[1;33m,\u001b[0m\u001b[0ms\u001b[0m\u001b[1;33m.\u001b[0m\u001b[0mvalue\u001b[0m\u001b[1;33m,\u001b[0m\u001b[0medgecolor\u001b[0m\u001b[1;33m=\u001b[0m\u001b[1;34m\"black\"\u001b[0m\u001b[1;33m,\u001b[0m\u001b[0mfacecolor\u001b[0m\u001b[1;33m=\u001b[0m\u001b[1;33m(\u001b[0m\u001b[0ms\u001b[0m\u001b[1;33m.\u001b[0m\u001b[0mvalue\u001b[0m\u001b[1;33m/\u001b[0m\u001b[1;36m10\u001b[0m\u001b[1;33m,\u001b[0m\u001b[0ms\u001b[0m\u001b[1;33m.\u001b[0m\u001b[0mweight\u001b[0m\u001b[1;33m/\u001b[0m\u001b[1;36m10\u001b[0m\u001b[1;33m,\u001b[0m \u001b[1;36m0.5\u001b[0m\u001b[1;33m)\u001b[0m\u001b[1;33m)\u001b[0m\u001b[1;33m)\u001b[0m\u001b[1;33m\u001b[0m\u001b[0m\n\u001b[0;32m      9\u001b[0m         \u001b[0mxs\u001b[0m\u001b[1;33m+=\u001b[0m\u001b[0ms\u001b[0m\u001b[1;33m.\u001b[0m\u001b[0mweight\u001b[0m\u001b[1;33m\u001b[0m\u001b[0m\n",
      "\u001b[1;31mAttributeError\u001b[0m: 'list' object has no attribute 'items'"
     ]
    },
    {
     "data": {
      "image/png": "[encoded data removed]",
      "text/plain": [
       "<matplotlib.figure.Figure at 0x230b98c9668>"
      ]
     },
     "metadata": {},
     "output_type": "display_data"
    }
   ],
   "source": [
    "f = plt.figure(figsize=(10,5))\n",
    "ax = f.add_subplot(111)\n",
    "draw_knapsack(items)"
   ]
  },
  {
   "cell_type": "code",
   "execution_count": 10,
   "metadata": {},
   "outputs": [
    {
     "data": {
      "image/png": "[encoded data removed]",
      "text/plain": [
       "<matplotlib.figure.Figure at 0x230b885dd30>"
      ]
     },
     "metadata": {},
     "output_type": "display_data"
    }
   ],
   "source": [
    "t = bog[2]\n",
    "\n",
    "f = plt.figure(figsize=(10,5))\n",
    "ax = f.add_subplot(111)\n",
    "def draw_knapsack(t,ax):\n",
    "    xs = 0\n",
    "    for s in t.items:\n",
    "        ax.add_patch(patches.Rectangle((xs,0),s.weight,s.value,edgecolor=\"black\",facecolor=(s.value/10,s.weight/10, 0.5)))\n",
    "        xs+=s.weight\n",
    "    plt.xlim(0,100)\n",
    "    plt.ylim(0,10)\n",
    "    \n",
    "draw_knapsack(t,ax)"
   ]
  },
  {
   "cell_type": "code",
   "execution_count": 11,
   "metadata": {},
   "outputs": [
    {
     "data": {
      "image/png": "[encoded data removed]",
      "text/plain": [
       "<matplotlib.figure.Figure at 0x230b9160550>"
      ]
     },
     "metadata": {},
     "output_type": "display_data"
    }
   ],
   "source": [
    "#Function to render matings into a family tree\n",
    "#For a mating, show parents and offspring\n",
    "#Row 1: Two parents\n",
    "#Row 2: 4 Offspring\n",
    "def drawMating(mating):\n",
    "    plt.figure(figsize=(15,3))\n",
    "    pax1 = plt.subplot2grid((2,4), (0,0), colspan=2)\n",
    "    draw_knapsack(mating.parent_a,pax1)\n",
    "    pax2 = plt.subplot2grid((2,4), (0,2), colspan=2)\n",
    "    draw_knapsack(mating.parent_b,pax2)\n",
    "    cax1 = plt.subplot2grid((2,4), (1,0))\n",
    "    draw_knapsack(mating.children[0],cax1)\n",
    "    cax2 = plt.subplot2grid((2,4), (1,1))\n",
    "    draw_knapsack(mating.children[1],cax2)\n",
    "    cax3 = plt.subplot2grid((2,4), (1,2))\n",
    "    draw_knapsack(mating.children[2],cax3)\n",
    "    cax4 = plt.subplot2grid((2,4), (1,3))\n",
    "    draw_knapsack(mating.children[3],cax4)\n",
    "    plt.setp(pax1.get_xticklabels(), visible=False)\n",
    "    plt.setp(pax2.get_xticklabels(), visible=False)\n",
    "    plt.setp(cax1.get_xticklabels(), visible=False)\n",
    "    plt.setp(cax2.get_xticklabels(), visible=False)\n",
    "    plt.setp(cax3.get_xticklabels(), visible=False)\n",
    "    plt.setp(cax4.get_xticklabels(), visible=False)\n",
    "    \n",
    "drawMating(matings[0][0])\n"
   ]
  },
  {
   "cell_type": "code",
   "execution_count": 12,
   "metadata": {},
   "outputs": [
    {
     "data": {
      "image/png": "[encoded data removed]",
      "text/plain": [
       "<matplotlib.figure.Figure at 0x230b885df60>"
      ]
     },
     "metadata": {},
     "output_type": "display_data"
    }
   ],
   "source": [
    "def draw_population(bog):\n",
    "    f = plt.figure(figsize=(10,15))\n",
    "    nbg = len(bog)\n",
    "    for n,i in enumerate(bog):\n",
    "    \n",
    "        ax = f.add_subplot(nbg,1,n+1)\n",
    "        draw_knapsack(i,ax)\n",
    "        ax.text(101,7,\"Total Value:{}\".format(i.total_value()))\n",
    "        ax.text(101,5,\"Total Weight:{}\".format(i.total_weight()))\n",
    "        if n < nbg -1:\n",
    "            plt.setp(ax.get_xticklabels(), visible=False)\n",
    "    f.tight_layout()\n",
    "    \n",
    "draw_population(bog)"
   ]
  },
  {
   "cell_type": "code",
   "execution_count": 22,
   "metadata": {
    "collapsed": true
   },
   "outputs": [],
   "source": [
    "x = bog[0]"
   ]
  },
  {
   "cell_type": "code",
   "execution_count": 25,
   "metadata": {},
   "outputs": [
    {
     "data": {
      "text/plain": [
       "[<matplotlib.lines.Line2D at 0x230b919f7b8>]"
      ]
     },
     "execution_count": 25,
     "metadata": {},
     "output_type": "execute_result"
    },
    {
     "data": {
      "image/png": "[encoded data removed]",
      "text/plain": [
       "<matplotlib.figure.Figure at 0x230b86ec7f0>"
      ]
     },
     "metadata": {},
     "output_type": "display_data"
    }
   ],
   "source": [
    "plt.plot([x.fitness_score() for x in bog])"
   ]
  },
  {
   "cell_type": "code",
   "execution_count": 27,
   "metadata": {},
   "outputs": [
    {
     "data": {
      "text/plain": [
       "[<matplotlib.lines.Line2D at 0x230b913a7f0>]"
      ]
     },
     "execution_count": 27,
     "metadata": {},
     "output_type": "execute_result"
    },
    {
     "data": {
      "image/png": "[encoded data removed]",
      "text/plain": [
       "<matplotlib.figure.Figure at 0x230b98d5940>"
      ]
     },
     "metadata": {},
     "output_type": "display_data"
    }
   ],
   "source": [
    "plt.plot([x.total_value() for x in bog])"
   ]
  },
  {
   "cell_type": "code",
   "execution_count": 2,
   "metadata": {
    "collapsed": true
   },
   "outputs": [],
   "source": [
    "from src.SalesmanRoute import Route,RequiredStop\n",
    "from src.SalesmanRouteIndividual import RouteIndividual"
   ]
  },
  {
   "cell_type": "code",
   "execution_count": 3,
   "metadata": {
    "collapsed": true
   },
   "outputs": [],
   "source": [
    "def make_fake_distances(n_sites):\n",
    "    distances = {}\n",
    "    for n1 in range(n_sites):\n",
    "        for n2 in range(n_sites):\n",
    "            if n1 == n2:\n",
    "                distances[n1,n2] = 0\n",
    "            elif (n2,n1) in distances.keys():\n",
    "                distances[n1,n2] = distances[n2,n1]\n",
    "            else:\n",
    "                distances[n1,n2] = np.random.random() * 100\n",
    "    return distances\n"
   ]
  },
  {
   "cell_type": "code",
   "execution_count": 4,
   "metadata": {
    "collapsed": true
   },
   "outputs": [],
   "source": [
    "distance_matrix = make_fake_distances(100)"
   ]
  },
  {
   "cell_type": "code",
   "execution_count": 91,
   "metadata": {},
   "outputs": [],
   "source": [
    "stops = [\n",
    "    RequiredStop(0,4),\n",
    "    RequiredStop(1,2),\n",
    "    RequiredStop(2,1,200),\n",
    "    RequiredStop(3,3),\n",
    "    RequiredStop(4,2,450),\n",
    "    RequiredStop(5,2,600),\n",
    "    RequiredStop(6,2,1000),\n",
    "    RequiredStop(7,2,750),\n",
    "    RequiredStop(8,2),\n",
    "    RequiredStop(9,2),\n",
    "    RequiredStop(10,2,600),\n",
    "    RequiredStop(11,2),\n",
    "    RequiredStop(12,2,900),\n",
    "    RequiredStop(13,2,850),\n",
    "    RequiredStop(14,2,1500),\n",
    "    RequiredStop(15,2),\n",
    "    RequiredStop(16,2),\n",
    "    RequiredStop(17,2,2000),\n",
    "    RequiredStop(18,2,3000),\n",
    "    RequiredStop(19,1),\n",
    "    RequiredStop(20,2),\n",
    "    RequiredStop(21,6,1460),\n",
    "    RequiredStop(22,3,1380),\n",
    "    RequiredStop(23,1),\n",
    "    RequiredStop(24,9,1260),\n",
    "    RequiredStop(25,4)  \n",
    "]\n",
    "\n",
    "# stops = []\n",
    "# for i in range(30):\n",
    "#     sto = np.random.random()\n",
    "#     art = None\n",
    "#     if sto < 0.2:\n",
    "#         art = np.random.randint(1,2000)\n",
    "#     else:\n",
    "#         art = None\n",
    "#     s = RequiredStop(i,np.random.randint(1,9),art)\n",
    "#     stops.append(s)"
   ]
  },
  {
   "cell_type": "code",
   "execution_count": 104,
   "metadata": {},
   "outputs": [],
   "source": [
    "from src.Anneal import anneal"
   ]
  },
  {
   "cell_type": "code",
   "execution_count": 113,
   "metadata": {},
   "outputs": [],
   "source": [
    "population = [RouteIndividual(stops,distance_matrix) for x in range(10)]"
   ]
  },
  {
   "cell_type": "code",
   "execution_count": 114,
   "metadata": {},
   "outputs": [
    {
     "data": {
      "text/plain": [
       "10"
      ]
     },
     "execution_count": 114,
     "metadata": {},
     "output_type": "execute_result"
    }
   ],
   "source": [
    "population = [x for x in population if x.is_valid()]\n",
    "len(population)"
   ]
  },
  {
   "cell_type": "code",
   "execution_count": 140,
   "metadata": {},
   "outputs": [],
   "source": [
    "sol,c,ch = anneal(population[0])"
   ]
  },
  {
   "cell_type": "code",
   "execution_count": 141,
   "metadata": {},
   "outputs": [
    {
     "data": {
      "text/plain": [
       "[<matplotlib.lines.Line2D at 0x25c91e12b00>]"
      ]
     },
     "execution_count": 141,
     "metadata": {},
     "output_type": "execute_result"
    },
    {
     "data": {
      "image/png": "[encoded data removed]",
      "text/plain": [
       "<matplotlib.figure.Figure at 0x25c91d27b00>"
      ]
     },
     "metadata": {},
     "output_type": "display_data"
    }
   ],
   "source": [
    "plt.plot(ch)"
   ]
  },
  {
   "cell_type": "code",
   "execution_count": 117,
   "metadata": {},
   "outputs": [
    {
     "data": {
      "text/plain": [
       "array([<src.SalesmanRoute.RequiredStop object at 0x0000025C90473A58>,\n",
       "       <src.SalesmanRoute.RequiredStop object at 0x0000025C90473A58>,\n",
       "       <src.SalesmanRoute.RequiredStop object at 0x0000025C90473A58>,\n",
       "       <src.SalesmanRoute.RequiredStop object at 0x0000025C90473A58>,\n",
       "       <src.SalesmanRoute.RequiredStop object at 0x0000025C90473A58>,\n",
       "       <src.SalesmanRoute.RequiredStop object at 0x0000025C90473A58>,\n",
       "       <src.SalesmanRoute.RequiredStop object at 0x0000025C90473A58>,\n",
       "       <src.SalesmanRoute.RequiredStop object at 0x0000025C90473A58>,\n",
       "       <src.SalesmanRoute.RequiredStop object at 0x0000025C90473A58>,\n",
       "       <src.SalesmanRoute.RequiredStop object at 0x0000025C90473A58>,\n",
       "       <src.SalesmanRoute.RequiredStop object at 0x0000025C90473A58>,\n",
       "       <src.SalesmanRoute.RequiredStop object at 0x0000025C90473A58>,\n",
       "       <src.SalesmanRoute.RequiredStop object at 0x0000025C90473A58>,\n",
       "       <src.SalesmanRoute.RequiredStop object at 0x0000025C90473A58>,\n",
       "       <src.SalesmanRoute.RequiredStop object at 0x0000025C90473A58>,\n",
       "       <src.SalesmanRoute.RequiredStop object at 0x0000025C90473A58>,\n",
       "       <src.SalesmanRoute.RequiredStop object at 0x0000025C90473A58>,\n",
       "       <src.SalesmanRoute.RequiredStop object at 0x0000025C90473A58>,\n",
       "       <src.SalesmanRoute.RequiredStop object at 0x0000025C90473A58>,\n",
       "       <src.SalesmanRoute.RequiredStop object at 0x0000025C90473A58>,\n",
       "       <src.SalesmanRoute.RequiredStop object at 0x0000025C90473A58>,\n",
       "       <src.SalesmanRoute.RequiredStop object at 0x0000025C90473A58>,\n",
       "       <src.SalesmanRoute.RequiredStop object at 0x0000025C90473A58>,\n",
       "       <src.SalesmanRoute.RequiredStop object at 0x0000025C90473A58>,\n",
       "       <src.SalesmanRoute.RequiredStop object at 0x0000025C90473A58>,\n",
       "       <src.SalesmanRoute.RequiredStop object at 0x0000025C90473A58>], dtype=object)"
      ]
     },
     "execution_count": 117,
     "metadata": {},
     "output_type": "execute_result"
    }
   ],
   "source": [
    "sol.route.stops"
   ]
  },
  {
   "cell_type": "code",
   "execution_count": null,
   "metadata": {
    "collapsed": true
   },
   "outputs": [],
   "source": []
  }
 ],
 "metadata": {
  "kernelspec": {
   "display_name": "Python 3",
   "language": "python",
   "name": "python3"
  },
  "language_info": {
   "codemirror_mode": {
    "name": "ipython",
    "version": 3
   },
   "file_extension": ".py",
   "mimetype": "text/x-python",
   "name": "python",
   "nbconvert_exporter": "python",
   "pygments_lexer": "ipython3",
   "version": "3.6.3"
  }
 },
 "nbformat": 4,
 "nbformat_minor": 1
}
